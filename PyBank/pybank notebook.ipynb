{
 "cells": [
  {
   "cell_type": "code",
   "execution_count": null,
   "metadata": {},
   "outputs": [],
   "source": [
    "#import modules\n",
    "import os, csv\n",
    "\n",
    "#C:\\Users\\tatia\\OneDrive\\Desktop\\Rutgers Bootcamp Repository\\python-challenge\\PyBank\\Resources\n",
    "#terminal needs to be in the same folder as the python file\n",
    "#open csv file and create dictionary using the columns in the dataset\n",
    "with open('budget_data.csv', \"r\") as csvfile:\n",
    "        reader = csv.reader(csvfile, delimiter=\",\")\n",
    "        next(reader)\n",
    "        data = list(reader)        \n",
    "\n",
    "#print(data)\n",
    "\n"
   ]
  },
  {
   "cell_type": "code",
   "execution_count": null,
   "metadata": {},
   "outputs": [],
   "source": [
    "#set variables\n",
    "tot_rev = 0\n",
    "greatest_inc = 0\n",
    "greatest_inc_mo = \"\"\n",
    "greatest_dec = 0\n",
    "greatest_dec_mo = \"\"\n",
    "prev_rev = None\n",
    "\n",
    "#use a loop to go through all the data\n",
    "for row in reader:\n",
    "        date = row[0]\n",
    "        revenue = int(row[1])\n",
    "#The net total amount of \"Profit/Losses\" over the entire period\n",
    "        tot_rev += revenue\n",
    "\n",
    "#The total number of months included in the dataset\n",
    "months = len(data)"
   ]
  },
  {
   "cell_type": "code",
   "execution_count": null,
   "metadata": {},
   "outputs": [],
   "source": [
    "\n",
    "\n",
    "#The changes in \"Profit/Losses\" over the entire period, and then the average of those changes\n",
    "change_pl = \n",
    "average = \n",
    "\n",
    "#The greatest increase in profits (date and amount) over the entire period\n",
    "\n",
    "#The greatest decrease in profits (date and amount) over the entire period\n",
    "\n",
    "#print Financial Analysis sheet\n",
    "with open(\"Financial Analysis.txt\", \"w\") as file_PythonChallenge:\n",
    "        file_PythonChallenge.write(f\"\"\"Financial Analysis\n",
    "        -----------------------------\n",
    "        Total months: {months}\n",
    "        Total: {tot_rev}\n",
    "        Average Change: {average}\n",
    "        Greatest Increase in Profits: {} {}\n",
    "        Greatest Decrease in Profits: {} {}\"\"\")"
   ]
  }
 ],
 "metadata": {
  "kernelspec": {
   "display_name": "Python 3",
   "language": "python",
   "name": "python3"
  },
  "language_info": {
   "name": "python",
   "version": "3.10.11"
  },
  "orig_nbformat": 4
 },
 "nbformat": 4,
 "nbformat_minor": 2
}
